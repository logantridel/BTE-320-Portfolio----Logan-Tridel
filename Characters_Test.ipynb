{
  "nbformat": 4,
  "nbformat_minor": 0,
  "metadata": {
    "colab": {
      "provenance": [],
      "authorship_tag": "ABX9TyPAFySFj6BATlrPfY9MGHGa",
      "include_colab_link": true
    },
    "kernelspec": {
      "name": "python3",
      "display_name": "Python 3"
    },
    "language_info": {
      "name": "python"
    }
  },
  "cells": [
    {
      "cell_type": "markdown",
      "metadata": {
        "id": "view-in-github",
        "colab_type": "text"
      },
      "source": [
        "<a href=\"https://colab.research.google.com/github/logantridel/BTE-320-Portfolio----Logan-Tridel/blob/main/Characters_Test.ipynb\" target=\"_parent\"><img src=\"https://colab.research.google.com/assets/colab-badge.svg\" alt=\"Open In Colab\"/></a>"
      ]
    },
    {
      "cell_type": "code",
      "execution_count": 12,
      "metadata": {
        "colab": {
          "base_uri": "https://localhost:8080/"
        },
        "id": "FsyfQfMvUt7y",
        "outputId": "e90dcdb2-9639-4c4d-b1b5-b7b412029abe"
      },
      "outputs": [
        {
          "output_type": "stream",
          "name": "stdout",
          "text": [
            "a\n",
            "b\n",
            "d\n",
            "g\n"
          ]
        }
      ],
      "source": [
        "s1 = \"abcdefg\"\n",
        "s2 = \"abdght\"\n",
        "\n",
        "\n",
        "\n",
        "for char in s1:\n",
        "    if char in s2:\n",
        "        print(char)\n",
        "\n",
        "s1 = \"abcdefg\"\n",
        "s2 = \"abdght\"\n",
        "\n",
        "\n",
        "\n",
        "\n",
        "\n"
      ]
    },
    {
      "cell_type": "code",
      "source": [
        "for index in range(len(s1)):\n",
        "    char = s1[index]\n",
        "    if char in s2:\n",
        "        print(char)\n",
        "\n",
        "print()"
      ],
      "metadata": {
        "colab": {
          "base_uri": "https://localhost:8080/"
        },
        "id": "xM3O_j7GX2V1",
        "outputId": "a7cce97b-8dbc-4f55-dc06-ee3ed741d331"
      },
      "execution_count": 11,
      "outputs": [
        {
          "output_type": "stream",
          "name": "stdout",
          "text": [
            "a\n",
            "b\n",
            "d\n",
            "g\n",
            "\n"
          ]
        }
      ]
    }
  ]
}