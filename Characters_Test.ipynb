{
  "nbformat": 4,
  "nbformat_minor": 0,
  "metadata": {
    "colab": {
      "provenance": [],
      "authorship_tag": "ABX9TyMZf53Wznm4eqCG3W8QXGnO",
      "include_colab_link": true
    },
    "kernelspec": {
      "name": "python3",
      "display_name": "Python 3"
    },
    "language_info": {
      "name": "python"
    }
  },
  "cells": [
    {
      "cell_type": "markdown",
      "metadata": {
        "id": "view-in-github",
        "colab_type": "text"
      },
      "source": [
        "<a href=\"https://colab.research.google.com/github/logantridel/BTE-320-Portfolio----Logan-Tridel/blob/main/Characters_Test.ipynb\" target=\"_parent\"><img src=\"https://colab.research.google.com/assets/colab-badge.svg\" alt=\"Open In Colab\"/></a>"
      ]
    },
    {
      "cell_type": "code",
      "execution_count": 3,
      "metadata": {
        "colab": {
          "base_uri": "https://localhost:8080/"
        },
        "id": "FsyfQfMvUt7y",
        "outputId": "bb3638e4-9b6f-4d62-ccd5-0c2e22bda0c8"
      },
      "outputs": [
        {
          "output_type": "stream",
          "name": "stdout",
          "text": [
            "a\n",
            "b\n",
            "d\n",
            "g\n"
          ]
        }
      ],
      "source": [
        "s1 = \"abcdefg\"\n",
        "s2 = \"abdght\"\n",
        "\n",
        "\n",
        "\n",
        "for char in s1:\n",
        "    if char in s2:\n",
        "        print(char)\n",
        "\n",
        "\n"
      ]
    }
  ]
}