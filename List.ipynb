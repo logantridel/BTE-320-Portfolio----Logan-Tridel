{
  "nbformat": 4,
  "nbformat_minor": 0,
  "metadata": {
    "colab": {
      "provenance": [],
      "authorship_tag": "ABX9TyO+4gZU9IX8zgH3Ss0rsClO",
      "include_colab_link": true
    },
    "kernelspec": {
      "name": "python3",
      "display_name": "Python 3"
    },
    "language_info": {
      "name": "python"
    }
  },
  "cells": [
    {
      "cell_type": "markdown",
      "metadata": {
        "id": "view-in-github",
        "colab_type": "text"
      },
      "source": [
        "<a href=\"https://colab.research.google.com/github/logantridel/BTE-320-Portfolio----Logan-Tridel/blob/main/List.ipynb\" target=\"_parent\"><img src=\"https://colab.research.google.com/assets/colab-badge.svg\" alt=\"Open In Colab\"/></a>"
      ]
    },
    {
      "cell_type": "code",
      "execution_count": 7,
      "metadata": {
        "colab": {
          "base_uri": "https://localhost:8080/"
        },
        "id": "wKlF22BbE0dZ",
        "outputId": "24dcde53-129f-4cf1-fdf6-430e9248e727"
      },
      "outputs": [
        {
          "output_type": "stream",
          "name": "stdout",
          "text": [
            "Enter an item (or '0' to finish): 1\n",
            "Enter an item (or '0' to finish): 2\n",
            "Enter an item (or '0' to finish): 0\n",
            "List of items entered: [1, 2]\n"
          ]
        }
      ],
      "source": [
        "L = []\n",
        "\n",
        "while True:\n",
        "    item = int(input(\"Enter an item (or '0' to finish): \"))\n",
        "    if item == 0:\n",
        "        break\n",
        "    L.append(item)\n",
        "\n",
        "\n",
        "print(\"List of items entered:\", L)\n"
      ]
    }
  ]
}