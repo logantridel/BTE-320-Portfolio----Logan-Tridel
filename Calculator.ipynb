{
  "nbformat": 4,
  "nbformat_minor": 0,
  "metadata": {
    "colab": {
      "provenance": [],
      "authorship_tag": "ABX9TyPpYsgdYl+DSF89+PGRL8o5",
      "include_colab_link": true
    },
    "kernelspec": {
      "name": "python3",
      "display_name": "Python 3"
    },
    "language_info": {
      "name": "python"
    }
  },
  "cells": [
    {
      "cell_type": "markdown",
      "metadata": {
        "id": "view-in-github",
        "colab_type": "text"
      },
      "source": [
        "<a href=\"https://colab.research.google.com/github/logantridel/BTE-320-Portfolio----Logan-Tridel/blob/main/Calculator.ipynb\" target=\"_parent\"><img src=\"https://colab.research.google.com/assets/colab-badge.svg\" alt=\"Open In Colab\"/></a>"
      ]
    },
    {
      "cell_type": "code",
      "execution_count": null,
      "metadata": {
        "id": "UMxiX0fKp0ix"
      },
      "outputs": [],
      "source": []
    },
    {
      "cell_type": "markdown",
      "source": [
        "Design a Calculator:\n",
        "- The calculator once starts, cannot stop unless the user chooses to (hint: infinite loop)\n",
        "- Implement all numerical operators that we discussed\n",
        "- The user has to provide the numbers and the desired operator from the keyboard; then, the calculator will display the result"
      ],
      "metadata": {
        "id": "DFmJFuUDp2xO"
      }
    },
    {
      "cell_type": "code",
      "source": [
        "def calculator():\n",
        "    while True:\n",
        "\n",
        "      num1 = float(input(\"Enter the first number: \"))\n",
        "            num2 = float(input(\"Enter the second number: \"))\n",
        "            operator = input(\"Enter the operator (+, -, *, /, //, %, ** or 'break' to stop): \")\n",
        "\n",
        "            if operator == 'break':\n",
        "                print(\"Exiting calculator.\")\n",
        "                break\n",
        "\n",
        "            if operator == '+':\n",
        "                result = num1 + num2\n",
        "            elif operator == '-':\n",
        "                result = num1 - num2\n",
        "            elif operator == '*':\n",
        "                result = num1 * num2\n",
        "            elif operator == '/':\n",
        "                result = num1 / num2\n",
        "            elif operator == '//':\n",
        "                result = num1 // num2\n",
        "            elif operator == '%':\n",
        "                result = num1 % num2\n",
        "            elif operator == '**':\n",
        "                result = num1 ** num2\n",
        "            else:\n",
        "                print(\"Invalid operator. Please enter a valid operator.\")\n",
        "                continue\n",
        "\n",
        "            print(f\"Result: {num1} {operator} {num2} = {result}\")\n",
        "\n",
        "        except ValueError:\n",
        "            print(\"Invalid input. Please enter valid numbers.\")\n",
        "        except ZeroDivisionError:\n",
        "            print(\"Cannot divide by zero.\")\n",
        "\n",
        "if __name__ == \"__main__\":\n",
        "    calculator()"
      ],
      "metadata": {
        "id": "uzTGgZtLqKz5"
      },
      "execution_count": null,
      "outputs": []
    }
  ]
}