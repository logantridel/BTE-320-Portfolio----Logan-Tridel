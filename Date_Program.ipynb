{
  "nbformat": 4,
  "nbformat_minor": 0,
  "metadata": {
    "colab": {
      "provenance": [],
      "authorship_tag": "ABX9TyONPDuNNhemBrTJqGKbvz/N",
      "include_colab_link": true
    },
    "kernelspec": {
      "name": "python3",
      "display_name": "Python 3"
    },
    "language_info": {
      "name": "python"
    }
  },
  "cells": [
    {
      "cell_type": "markdown",
      "metadata": {
        "id": "view-in-github",
        "colab_type": "text"
      },
      "source": [
        "<a href=\"https://colab.research.google.com/github/logantridel/BTE-320-Portfolio----Logan-Tridel/blob/main/Date_Program.ipynb\" target=\"_parent\"><img src=\"https://colab.research.google.com/assets/colab-badge.svg\" alt=\"Open In Colab\"/></a>"
      ]
    },
    {
      "cell_type": "code",
      "execution_count": 9,
      "metadata": {
        "colab": {
          "base_uri": "https://localhost:8080/"
        },
        "id": "lc5wbr2H_WsW",
        "outputId": "436afa9e-df0e-4e33-ca67-01ed9aab0c1f"
      },
      "outputs": [
        {
          "output_type": "stream",
          "name": "stdout",
          "text": [
            "Enter date (mm/dd/yyyy): 02/10/2004\n",
            "Month: 02\n",
            "Day: 10\n",
            "Year: 2004\n"
          ]
        }
      ],
      "source": [
        "date = input(\"Enter date (mm/dd/yyyy): \")\n",
        "month = date[:2]\n",
        "day = date[3:5]\n",
        "year = date[6:]\n",
        "print(\"Month:\", month)\n",
        "print(\"Day:\", day)\n",
        "print(\"Year:\", year)"
      ]
    }
  ]
}