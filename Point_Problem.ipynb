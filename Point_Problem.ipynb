{
  "nbformat": 4,
  "nbformat_minor": 0,
  "metadata": {
    "colab": {
      "provenance": [],
      "authorship_tag": "ABX9TyM/EhenLn1gtsWhEOy33LT/",
      "include_colab_link": true
    },
    "kernelspec": {
      "name": "python3",
      "display_name": "Python 3"
    },
    "language_info": {
      "name": "python"
    }
  },
  "cells": [
    {
      "cell_type": "markdown",
      "metadata": {
        "id": "view-in-github",
        "colab_type": "text"
      },
      "source": [
        "<a href=\"https://colab.research.google.com/github/logantridel/BTE-320-Portfolio----Logan-Tridel/blob/main/Point_Problem.ipynb\" target=\"_parent\"><img src=\"https://colab.research.google.com/assets/colab-badge.svg\" alt=\"Open In Colab\"/></a>"
      ]
    },
    {
      "cell_type": "code",
      "execution_count": 2,
      "metadata": {
        "colab": {
          "base_uri": "https://localhost:8080/"
        },
        "id": "OUo3WFuWJghd",
        "outputId": "a829906c-e1e4-4716-9f52-ac05e8ac0063"
      },
      "outputs": [
        {
          "output_type": "stream",
          "name": "stdout",
          "text": [
            "5.0\n"
          ]
        }
      ],
      "source": [
        "class Point:\n",
        "    def __init__(self, x, y):\n",
        "        self.x = x\n",
        "        self.y = y\n",
        "\n",
        "    def distance(self, other):\n",
        "      x_diff = (self.x-other.x) **2\n",
        "      y_diff = (self.y - other.y)**2\n",
        "      return (x_diff + y_diff)** 0.5\n",
        "\n",
        "p1 = Point (3,4)\n",
        "p2 = Point (6,8)\n",
        "print (p1.distance(p2))"
      ]
    },
    {
      "cell_type": "code",
      "source": [
        "class Animal:\n",
        "  def __init__ (self, legs):\n",
        "    print (\"Animal Created\")\n",
        "    self.legs = legs\n",
        "  def whoami(self):\n",
        "    print(\"I am an animal\")\n",
        "\n",
        "class Bird(Animal):\n",
        "  def __init__ (self, legs, wings):\n",
        "    super(). __init__(legs)\n",
        "    self.wings = wings\n",
        "  def fly (self):\n",
        "    print(\"birds can fly\")\n",
        "\n",
        "a = Animal(4)\n",
        "b = Bird (2,2)\n",
        "b.fly()\n",
        "a.whoami()"
      ],
      "metadata": {
        "colab": {
          "base_uri": "https://localhost:8080/"
        },
        "id": "8BUKmgYbNk5i",
        "outputId": "c2e4ce25-5216-4ad2-c89f-ca8a7c81ed3d"
      },
      "execution_count": 14,
      "outputs": [
        {
          "output_type": "stream",
          "name": "stdout",
          "text": [
            "Animal Created\n",
            "Animal Created\n",
            "birds can fly\n",
            "I am an animal\n"
          ]
        }
      ]
    }
  ]
}