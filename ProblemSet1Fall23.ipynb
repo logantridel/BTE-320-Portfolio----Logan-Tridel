{
  "nbformat": 4,
  "nbformat_minor": 0,
  "metadata": {
    "colab": {
      "provenance": [],
      "include_colab_link": true
    },
    "kernelspec": {
      "name": "python3",
      "display_name": "Python 3"
    },
    "language_info": {
      "name": "python"
    }
  },
  "cells": [
    {
      "cell_type": "markdown",
      "metadata": {
        "id": "view-in-github",
        "colab_type": "text"
      },
      "source": [
        "<a href=\"https://colab.research.google.com/github/logantridel/BTE-320-Portfolio----Logan-Tridel/blob/main/ProblemSet1Fall23.ipynb\" target=\"_parent\"><img src=\"https://colab.research.google.com/assets/colab-badge.svg\" alt=\"Open In Colab\"/></a>"
      ]
    },
    {
      "cell_type": "markdown",
      "source": [
        "# Problem Set 2"
      ],
      "metadata": {
        "id": "mqKVIuY-mxNU"
      }
    },
    {
      "cell_type": "markdown",
      "source": [
        "## Assignment 1: Quality Control (7 points)\n",
        "\n",
        "A quality control manager would like to find the average weight of a list of weights. Prior experience indicates that the first two measures are atypical, and the practice is to exclude these from the average calculation.\n",
        "\n",
        "Write a program that calculates the average of a list of numbers that given as inputs from the user, excluding the first two values.\n",
        "\n",
        "For your program, you must define and use the following functions:\n",
        "- `getValues(n)`: Prompt the user for `n` values, returns the list\n",
        "- `calcAverage(alist)`: Calculates the average from the list"
      ],
      "metadata": {
        "id": "-RSYW1jVm08n"
      }
    },
    {
      "cell_type": "code",
      "execution_count": null,
      "metadata": {
        "id": "AqbgJkgNmvQw",
        "colab": {
          "base_uri": "https://localhost:8080/"
        },
        "outputId": "360f06a2-77ce-48ec-895f-6fb3070c4fe3"
      },
      "outputs": [
        {
          "output_type": "stream",
          "name": "stdout",
          "text": [
            "Enter the number of weights being entered: 4\n",
            "Enter each weight: 1\n",
            "Enter each weight: 2\n",
            "Enter each weight: 3\n",
            "Enter each weight: 4\n",
            "3.5\n"
          ]
        }
      ],
      "source": [
        "def getValues(n):\n",
        "  weights = []\n",
        "  if n < 3:\n",
        "    print('Not enough values.')\n",
        "    return None\n",
        "  else:\n",
        "    for var in range(n):\n",
        "      weight = float(input('Enter each weight: '))\n",
        "      weights.append(weight)\n",
        "    return (weights[2:])\n",
        "\n",
        "def calcAverage(aList):\n",
        "  print(sum(aList) / len(aList))\n",
        "\n",
        "n_weights = int(input('Enter the number of weights being entered: '))\n",
        "calcAverage(getValues(n_weights))"
      ]
    },
    {
      "cell_type": "markdown",
      "source": [
        "## Assignment 2: Country Statistics Lookup-Multiple Measures (6 points)\n",
        "\n",
        "Assume a program begins with the statement:\n",
        "\n",
        "```python\n",
        "allData = { # dictionary of values for countries\n",
        "    'US': {'pop':325.7, 'gdp': 19.39, 'ccy': 'USD', 'fx':  1.0},\n",
        "    'CA': {'pop': 36.5, 'gdp':  1.65, 'ccy': 'CAD', 'fx':  1.35},\n",
        "    'MX': {'pop':129.2, 'gdp':  1.15, 'ccy': 'MXN', 'fx': 19.68}\n",
        "    }\n",
        "```\n",
        "\n",
        "Write subsequent statements that (in a loop) prompt the user for a country code (`US`, `CA`, or `MX`), then prompt for a measure name (`pop`, `gdp`, `ccy`, or `fx`), then look up in the above dictionary for the corresponding value, and display it.\n",
        "\n",
        "Example run:\n",
        "```\n",
        "Please enter a country code: CA\n",
        "Please enter a statistic: pop\n",
        "CA pop = 36.5\n",
        "```\n",
        "\n",
        "Your program should handle the cases where a user-entered country code or measure name is not found."
      ],
      "metadata": {
        "id": "QFO0Kzx8ncnv"
      }
    },
    {
      "cell_type": "code",
      "source": [
        "allData = {  # dictionary of values for countries\n",
        "    'US': {'pop': 325.7, 'gdp': 19.39, 'ccy': 'USD', 'fx': 1.0},\n",
        "    'CA': {'pop': 36.5, 'gdp': 1.65, 'ccy': 'CAD', 'fx': 1.35},\n",
        "    'MX': {'pop': 129.2, 'gdp': 1.15, 'ccy': 'MXN', 'fx': 19.68}\n",
        "}\n",
        "\n",
        "while True:\n",
        "    country_code = input(\"Please enter a country code (US, CA, or MX), or type 'exit' to quit: \")\n",
        "    if country_code.lower() == \"exit\":\n",
        "        break\n",
        "    elif country_code in allData:\n",
        "        statistic = input(\"Please enter a statistic (pop, gdp, ccy, or fx): \")\n",
        "        if statistic in allData[country_code]:\n",
        "            value = allData[country_code][statistic]\n",
        "            print(f\"{country_code} {statistic} = {value}\")\n",
        "        else:\n",
        "            print(\"Statistic not found.\")\n",
        "    else:\n",
        "        print(\"Country code not found.\")"
      ],
      "metadata": {
        "id": "NZFjRINKowEW",
        "colab": {
          "base_uri": "https://localhost:8080/"
        },
        "outputId": "4b89c6af-2f8e-4ac4-8a7f-001048bb585f"
      },
      "execution_count": 12,
      "outputs": [
        {
          "name": "stdout",
          "output_type": "stream",
          "text": [
            "Please enter a country code (US, CA, or MX), or type 'exit' to quit: MX\n",
            "Please enter a statistic (pop, gdp, ccy, or fx): gdp\n",
            "MX gdp = 1.15\n",
            "Please enter a country code (US, CA, or MX), or type 'exit' to quit: US\n",
            "Please enter a statistic (pop, gdp, ccy, or fx): pop\n",
            "US pop = 325.7\n",
            "Please enter a country code (US, CA, or MX), or type 'exit' to quit: exit\n"
          ]
        }
      ]
    },
    {
      "cell_type": "markdown",
      "source": [
        "## Assignment 3: Parking Garage (6 points)\n",
        "\n",
        "Write a program to compute the fee for parking in a garage for a number of hours.\n",
        "\n",
        "The program should:\n",
        "- Prompt the user for how many hours parked\n",
        "- Calculate the fee based on the following rules:\n",
        "  - $2.50/hour\n",
        "\n",
        "  - minimum fee is $6.00\n",
        "\n",
        "  - maximum fee is $20.00\n",
        "- Print the result\n",
        "\n",
        "For your program, define and use the following two functions:\n",
        "```python\n",
        "# use input() to prompt for the # of hours parked, return this value\n",
        "def getParkingHours()\n",
        "\n",
        "# takes as input hours (a number), returns the parking fee\n",
        "def calcParkingFee()\n",
        "```"
      ],
      "metadata": {
        "id": "GjaUFrnfpKFf"
      }
    },
    {
      "cell_type": "code",
      "source": [
        "def getParkingHours():\n",
        "    return float(input(\"Enter the number of hours parked: \"))\n",
        "\n",
        "def calcParkingFee(hours):\n",
        "    fee_per_hour = 2.50\n",
        "    minimum_fee = 6.00\n",
        "    maximum_fee = 20.00\n",
        "\n",
        "    fee = hours * fee_per_hour\n",
        "    if fee < minimum_fee:\n",
        "        return minimum_fee\n",
        "    elif fee > maximum_fee:\n",
        "        return maximum_fee\n",
        "    else:\n",
        "        return fee\n",
        "\n",
        "hours_parked = getParkingHours()\n",
        "fee = calcParkingFee(hours_parked)\n",
        "print(\"Parking fee:\", fee)"
      ],
      "metadata": {
        "id": "5ha4O3V5pwNN",
        "colab": {
          "base_uri": "https://localhost:8080/"
        },
        "outputId": "64eca5e2-4d51-47e7-ced2-f6fa9720d7d8"
      },
      "execution_count": 10,
      "outputs": [
        {
          "output_type": "stream",
          "name": "stdout",
          "text": [
            "Enter the number of hours parked: 5\n",
            "Parking fee: 12.5\n"
          ]
        }
      ]
    },
    {
      "cell_type": "markdown",
      "source": [
        "## Assignment 4: Tuition (6 points)\n",
        "\n",
        "A college charges tuition according to the following:\n",
        "- 12 or more credits: $20,000/semester\n",
        "\n",
        "- 1-11 credits: $1,200 + $1,700 per credit\n",
        "\n",
        "Write a program that prompts the user for a number of credits and determines and displays the tuition for the semester. As part of your program, define and use the following function:\n",
        "```python\n",
        "def calcTuition(credits)\n",
        "```\n",
        "The function returns the tuition for a given number of credits"
      ],
      "metadata": {
        "id": "gipBObe5qm-2"
      }
    },
    {
      "cell_type": "code",
      "source": [
        "def calcTuition(credits):\n",
        "    if credits < 1:\n",
        "        print(\"Invalid number of credits. Please enter a number greater than or equal to one.\")\n",
        "        return None\n",
        "    elif credits >= 12:\n",
        "        tuition = 20000\n",
        "    else:\n",
        "        tuition = 1200 + (credits * 1700)\n",
        "    return tuition\n",
        "\n",
        "while True:\n",
        "    credits = int(input(\"Enter the number of credits: \"))\n",
        "    tuition = calcTuition(credits)\n",
        "    if tuition is not None:\n",
        "        break\n",
        "\n",
        "print(\"Tuition for the semester:\", tuition)"
      ],
      "metadata": {
        "id": "BPcn9ywzrL8y",
        "colab": {
          "base_uri": "https://localhost:8080/"
        },
        "outputId": "dc257859-646b-4574-babd-042178e0bab5"
      },
      "execution_count": 9,
      "outputs": [
        {
          "output_type": "stream",
          "name": "stdout",
          "text": [
            "Enter the number of credits: 0\n",
            "Invalid number of credits. Please enter a number greater than or equal to one.\n",
            "Enter the number of credits: 1\n",
            "Tuition for the semester: 2900\n"
          ]
        }
      ]
    }
  ]
}